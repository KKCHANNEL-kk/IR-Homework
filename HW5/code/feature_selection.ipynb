{
 "cells": [
  {
   "cell_type": "code",
   "execution_count": 1,
   "metadata": {},
   "outputs": [],
   "source": [
    "import pkuseg\n",
    "import pandas as pd\n",
    "\n",
    "data = pd.read_csv('../data/gwt_info.csv')"
   ]
  },
  {
   "cell_type": "code",
   "execution_count": 2,
   "metadata": {},
   "outputs": [],
   "source": [
    "def getStopwords(path):\n",
    "    '''\n",
    "    读取停用词列表\n",
    "    '''\n",
    "    with open(path, 'r', encoding='utf-8') as f:\n",
    "        stopword_list = [word.strip('\\n') for word in f.readlines()]\n",
    "    return stopword_list\n",
    "\n",
    "stopwords = getStopwords('../data/cn_stopwords.txt')"
   ]
  },
  {
   "cell_type": "code",
   "execution_count": 3,
   "metadata": {},
   "outputs": [],
   "source": [
    "seg = pkuseg.pkuseg()\n",
    "def clean_cn_str(str,stopword_list):\n",
    "    '''\n",
    "    为中文字符串分词后去停用词，返回中文分词列表\n",
    "    '''\n",
    "    result = []\n",
    "    word_list = seg.cut(str.strip('\\n'))\n",
    "    for word in word_list:\n",
    "        if word not in stopword_list:\n",
    "            result.append(word)\n",
    "    return result\n"
   ]
  },
  {
   "cell_type": "code",
   "execution_count": 4,
   "metadata": {},
   "outputs": [],
   "source": [
    "data['words'] = data.apply(lambda x: clean_cn_str(str(x['title'])+' '+str(x['content']),stopwords),axis=1)"
   ]
  },
  {
   "cell_type": "code",
   "execution_count": 9,
   "metadata": {},
   "outputs": [
    {
     "data": {
      "text/plain": [
       "0       [做好, 我校, 2021-2022, 学年, 第一, 学期, 期末, 假期, 疫情, 防控...\n",
       "1       [召开, 党委, 常委会, （, 扩大, ）, 会议, 暨, 基层, 党委, （, 总支, ...\n",
       "2       [参加, 2022年, 新年, 音乐会, 通知, 丰富, 校园, 文化, 生活, 学校, 定...\n",
       "3       [召开, 校, 党委, 班子, 成员, 述责, 述廉, 测评, 会议, 暨, 中层, 干部,...\n",
       "4       [参加, 深圳, 大学, 2021年, 奖学金, 颁奖, 典礼, 通知, 全, 校, 单位,...\n",
       "                              ...                        \n",
       "1395    [面向, 循环, 经济, 碳, 纤维, 增强, 复合, 材料, 回收, 制造, 项目, 拨付...\n",
       "1396    [深圳, 大学, 龙岗, 创新, 研究院, 2020, 年度, 总结, 暨, 表彰, 大会,...\n",
       "1397    [三维, 重建, 前沿, 技术, 研究, 项目, 拨付, 测试, 化验, 加工, 经费, 公...\n",
       "1398    [征集, 2021, 年度, 中, 韩, 青年, 科学家, 交流, 计划, 中国, 青年, ...\n",
       "1399    [申报, 2021, 年度, 腾讯, 科学, 探索, 奖, 通知, 科学, 探索, 奖, 面...\n",
       "Name: words, Length: 1400, dtype: object"
      ]
     },
     "execution_count": 9,
     "metadata": {},
     "output_type": "execute_result"
    }
   ],
   "source": [
    "data['words']"
   ]
  },
  {
   "cell_type": "code",
   "execution_count": 10,
   "metadata": {},
   "outputs": [],
   "source": [
    "data[['department','words']].to_csv('../data/gwt_corpus.csv')"
   ]
  },
  {
   "cell_type": "code",
   "execution_count": 11,
   "metadata": {},
   "outputs": [
    {
     "data": {
      "text/html": [
       "<div>\n",
       "<style scoped>\n",
       "    .dataframe tbody tr th:only-of-type {\n",
       "        vertical-align: middle;\n",
       "    }\n",
       "\n",
       "    .dataframe tbody tr th {\n",
       "        vertical-align: top;\n",
       "    }\n",
       "\n",
       "    .dataframe thead th {\n",
       "        text-align: right;\n",
       "    }\n",
       "</style>\n",
       "<table border=\"1\" class=\"dataframe\">\n",
       "  <thead>\n",
       "    <tr style=\"text-align: right;\">\n",
       "      <th></th>\n",
       "      <th>department</th>\n",
       "      <th>words</th>\n",
       "    </tr>\n",
       "  </thead>\n",
       "  <tbody>\n",
       "    <tr>\n",
       "      <th>0</th>\n",
       "      <td>党政办公室</td>\n",
       "      <td>[做好, 我校, 2021-2022, 学年, 第一, 学期, 期末, 假期, 疫情, 防控...</td>\n",
       "    </tr>\n",
       "    <tr>\n",
       "      <th>1</th>\n",
       "      <td>党政办公室</td>\n",
       "      <td>[召开, 党委, 常委会, （, 扩大, ）, 会议, 暨, 基层, 党委, （, 总支, ...</td>\n",
       "    </tr>\n",
       "    <tr>\n",
       "      <th>2</th>\n",
       "      <td>党政办公室</td>\n",
       "      <td>[参加, 2022年, 新年, 音乐会, 通知, 丰富, 校园, 文化, 生活, 学校, 定...</td>\n",
       "    </tr>\n",
       "    <tr>\n",
       "      <th>3</th>\n",
       "      <td>党政办公室</td>\n",
       "      <td>[召开, 校, 党委, 班子, 成员, 述责, 述廉, 测评, 会议, 暨, 中层, 干部,...</td>\n",
       "    </tr>\n",
       "    <tr>\n",
       "      <th>4</th>\n",
       "      <td>党政办公室</td>\n",
       "      <td>[参加, 深圳, 大学, 2021年, 奖学金, 颁奖, 典礼, 通知, 全, 校, 单位,...</td>\n",
       "    </tr>\n",
       "    <tr>\n",
       "      <th>...</th>\n",
       "      <td>...</td>\n",
       "      <td>...</td>\n",
       "    </tr>\n",
       "    <tr>\n",
       "      <th>851</th>\n",
       "      <td>科学技术部</td>\n",
       "      <td>[转发, 深圳市, 科技, 创新, 委员会, 国家, 广东省, 科技, 奖, 配套, 奖励,...</td>\n",
       "    </tr>\n",
       "    <tr>\n",
       "      <th>852</th>\n",
       "      <td>科学技术部</td>\n",
       "      <td>[申请, 2021, 年度, 国家, 自然科学, 基金, 应急, 管理, 项目, 全面, 推...</td>\n",
       "    </tr>\n",
       "    <tr>\n",
       "      <th>853</th>\n",
       "      <td>科学技术部</td>\n",
       "      <td>[开展, 深圳, 大学, 2021, 年度, 科研, 经费, 使用, 管理, 专项, 自查,...</td>\n",
       "    </tr>\n",
       "    <tr>\n",
       "      <th>854</th>\n",
       "      <td>科学技术部</td>\n",
       "      <td>[申请, 2022, 年度, 国家, 自然科学, 基金, 委员会, 加拿大, 卫生, 研究院...</td>\n",
       "    </tr>\n",
       "    <tr>\n",
       "      <th>855</th>\n",
       "      <td>科学技术部</td>\n",
       "      <td>[申报, 2021年, 中国, 高校, 产学研, 创新, 基金, －, 北, 创助, 教, ...</td>\n",
       "    </tr>\n",
       "  </tbody>\n",
       "</table>\n",
       "<p>150 rows × 2 columns</p>\n",
       "</div>"
      ],
      "text/plain": [
       "    department                                              words\n",
       "0        党政办公室  [做好, 我校, 2021-2022, 学年, 第一, 学期, 期末, 假期, 疫情, 防控...\n",
       "1        党政办公室  [召开, 党委, 常委会, （, 扩大, ）, 会议, 暨, 基层, 党委, （, 总支, ...\n",
       "2        党政办公室  [参加, 2022年, 新年, 音乐会, 通知, 丰富, 校园, 文化, 生活, 学校, 定...\n",
       "3        党政办公室  [召开, 校, 党委, 班子, 成员, 述责, 述廉, 测评, 会议, 暨, 中层, 干部,...\n",
       "4        党政办公室  [参加, 深圳, 大学, 2021年, 奖学金, 颁奖, 典礼, 通知, 全, 校, 单位,...\n",
       "..         ...                                                ...\n",
       "851      科学技术部  [转发, 深圳市, 科技, 创新, 委员会, 国家, 广东省, 科技, 奖, 配套, 奖励,...\n",
       "852      科学技术部  [申请, 2021, 年度, 国家, 自然科学, 基金, 应急, 管理, 项目, 全面, 推...\n",
       "853      科学技术部  [开展, 深圳, 大学, 2021, 年度, 科研, 经费, 使用, 管理, 专项, 自查,...\n",
       "854      科学技术部  [申请, 2022, 年度, 国家, 自然科学, 基金, 委员会, 加拿大, 卫生, 研究院...\n",
       "855      科学技术部  [申报, 2021年, 中国, 高校, 产学研, 创新, 基金, －, 北, 创助, 教, ...\n",
       "\n",
       "[150 rows x 2 columns]"
      ]
     },
     "execution_count": 11,
     "metadata": {},
     "output_type": "execute_result"
    }
   ],
   "source": [
    "# 取出各类最近30条，作为特征选择的语料\n",
    "docs = data[data['no']<30][['department','words']]\n",
    "docs"
   ]
  },
  {
   "cell_type": "markdown",
   "metadata": {},
   "source": [
    "## 1. 互信息"
   ]
  },
  {
   "cell_type": "markdown",
   "metadata": {},
   "source": [
    "统计词表中的词在每类文档的出现次数"
   ]
  },
  {
   "cell_type": "code",
   "execution_count": 15,
   "metadata": {},
   "outputs": [],
   "source": [
    "vocabulary = {}\n",
    "_class = docs['department'].unique()\n",
    "cnt_class = {}\n",
    "for c in _class:\n",
    "    cnt_class[c] = 0\n",
    "cnt_all = 0\n",
    "for index,row in docs.iterrows():\n",
    "    words = list(set(row['words']))\n",
    "    for word in words:\n",
    "        if word not in vocabulary:\n",
    "            vocabulary[word] = {}\n",
    "            for c in _class:\n",
    "                vocabulary[word][c] = 0\n",
    "        vocabulary[word][row['department']] = vocabulary[word][row['department']]+1\n",
    "        cnt_class[row['department']] = cnt_class[row['department']]+1\n",
    "        cnt_all += 1\n",
    "        "
   ]
  },
  {
   "cell_type": "code",
   "execution_count": 22,
   "metadata": {},
   "outputs": [
    {
     "name": "stdout",
     "output_type": "stream",
     "text": [
      "党政办公室  Top 15:  [('2021年', -0.14197210966412985), ('）', -0.1427317401633203), ('（', -0.1427317401633203), ('工作', -0.14287912795378307), ('单位', -0.14316455679153353), ('通知', -0.14321257854379363), ('大学', -0.14351543014442605), ('请', -0.14363647752703232), ('12月', -0.14364508507683252), ('深圳', -0.1436714392196878), ('学校', -0.14375497447213217), ('要求', -0.1438313295089455), ('学院', -0.1439926452992955), ('中', -0.14401825235809768), ('办公室', -0.14403081004716917)]\n",
      "\n",
      "\n",
      "教务部  Top 15:  [('2021年', -0.1652252142841059), ('）', -0.1659793450554689), ('（', -0.1659793450554689), ('工作', -0.16607529177624458), ('通知', -0.1663870418363987), ('单位', -0.16642990571993302), ('大学', -0.1666630968282318), ('12月', -0.16671694842332904), ('深圳', -0.16683261002036695), ('请', -0.1668461716577026), ('学校', -0.16692412218914715), ('要求', -0.16701768158697244), ('学院', -0.167133541515803), ('进行', -0.16717021369774843), ('中', -0.16717210960381615)]\n",
      "\n",
      "\n",
      "招生办公室  Top 15:  [('2021年', -0.183697524753985), ('）', -0.18419820716848354), ('（', -0.18419820716848354), ('通知', -0.18435410520862153), ('工作', -0.18451397359482083), ('单位', -0.18475382679457794), ('12月', -0.18477038387220956), ('请', -0.1849774680247344), ('大学', -0.18507630226673585), ('深圳', -0.18522375525961093), ('学校', -0.18531713336276298), ('要求', -0.18532440530484007), ('办公室', -0.18551873157516796), ('中', -0.1855440012469996), ('学院', -0.18555774875185843)]\n",
      "\n",
      "\n",
      "研究生院  Top 15:  [('2021年', -0.1618460359165865), ('）', -0.16260379502431188), ('（', -0.16260379502431188), ('工作', -0.16272570555107918), ('通知', -0.16306797688068775), ('单位', -0.16307332504261077), ('大学', -0.1633077714034877), ('12月', -0.16333033331956162), ('请', -0.16342534625636726), ('深圳', -0.16346978724260208), ('研究生院', -0.1635550485413984), ('学校', -0.16357012430894785), ('要求', -0.16362921570038436), ('学院', -0.16370339651094507), ('研究生', -0.1637515523677194)]\n",
      "\n",
      "\n",
      "科学技术部  Top 15:  [('2021年', -0.21515513316024723), ('）', -0.215936714154724), ('（', -0.215936714154724), ('工作', -0.21599806323026746), ('单位', -0.2163492555406424), ('通知', -0.21636660242517242), ('大学', -0.21652576157269293), ('学校', -0.21667997951044246), ('深圳', -0.2166839513250172), ('12月', -0.21668796844057325), ('请', -0.21671528493317982), ('进行', -0.216855716126062), ('办公室', -0.2168712421380567), ('要求', -0.21688520854381232), ('学院', -0.21688840936760187)]\n",
      "\n",
      "\n"
     ]
    }
   ],
   "source": [
    "import math\n",
    "\n",
    "MI = {}\n",
    "for c in _class:\n",
    "    MI[c] = []\n",
    "    \n",
    "for word,word_class_cnt in vocabulary.items():\n",
    "    for c,cnt in word_class_cnt.items():\n",
    "        n = cnt_all\n",
    "        n11 = cnt\n",
    "        n01 = cnt_class[c] - n11 \n",
    "        n1_ = sum(word_class_cnt.values())\n",
    "        n10 = n1_ - n11\n",
    "        n00 = n - n1_ - n01\n",
    "        n0_ = n - n1_\n",
    "        n_1 = n01 + n11\n",
    "        n_0 = n - n1_\n",
    "        mi = (n11/n)*math.log((n*n11+1)/n1_/n_1) + (n01/n)*math.log((n*n01+1)/n0_/n_1) + (n10/n)*math.log((n*n10+1)/n1_/n_0) + (n00/n)*math.log((n*n00+1)/n0_/n_0)\n",
    "        MI[c].append((word,mi))\n",
    "\n",
    "for c in MI.values():\n",
    "    c.sort(key=lambda x:x[1],reverse=True)\n",
    "    \n",
    "for cname,ccnt in MI.items():\n",
    "    print(cname,' Top 15: ',ccnt[:15])\n",
    "    print('\\n')"
   ]
  },
  {
   "cell_type": "code",
   "execution_count": 23,
   "metadata": {},
   "outputs": [
    {
     "data": {
      "text/plain": [
       "{'党政办公室': 16, '教务部': 21, '招生办公室': 25, '研究生院': 14, '科学技术部': 17}"
      ]
     },
     "execution_count": 23,
     "metadata": {},
     "output_type": "execute_result"
    }
   ],
   "source": [
    "vocabulary['大学']"
   ]
  },
  {
   "cell_type": "code",
   "execution_count": 24,
   "metadata": {},
   "outputs": [
    {
     "data": {
      "text/plain": [
       "6728"
      ]
     },
     "execution_count": 24,
     "metadata": {},
     "output_type": "execute_result"
    }
   ],
   "source": [
    "len(vocabulary)"
   ]
  },
  {
   "cell_type": "code",
   "execution_count": 25,
   "metadata": {},
   "outputs": [
    {
     "data": {
      "text/plain": [
       "{'党政办公室': 4219, '教务部': 4971, '招生办公室': 5594, '研究生院': 4860, '科学技术部': 6719}"
      ]
     },
     "execution_count": 25,
     "metadata": {},
     "output_type": "execute_result"
    }
   ],
   "source": [
    "cnt_class"
   ]
  },
  {
   "cell_type": "markdown",
   "metadata": {},
   "source": [
    "n01 = cnt_class[c] - n11 \n",
    "\n",
    "n01 应该是 不包含t但属于类别c的【文档】数，每类文档数都为30，所以这里应该是30-n11\n",
    "\n",
    "cnt_class[c] 统计的是在c类中出现过的词的数量"
   ]
  },
  {
   "cell_type": "markdown",
   "metadata": {},
   "source": [
    "n = cnt_all\n",
    "\n",
    "cnt_all 统计的是文档中出现过的词的数量，也就是cnt_class中value之和\n",
    "\n",
    "而n应该为数据集中所有文档的数量，也就是30*5"
   ]
  },
  {
   "cell_type": "markdown",
   "metadata": {},
   "source": [
    "### 修正"
   ]
  },
  {
   "cell_type": "code",
   "execution_count": 26,
   "metadata": {},
   "outputs": [],
   "source": [
    "vocabulary = {}\n",
    "_class = docs['department'].unique()\n",
    "doccnt_class = {}\n",
    "for c in _class:\n",
    "    doccnt_class[c] = 0\n",
    "doccnt_all = 0\n",
    "for index,row in docs.iterrows():\n",
    "    words = list(set(row['words']))\n",
    "    for word in words:\n",
    "        if word not in vocabulary:\n",
    "            vocabulary[word] = {}\n",
    "            for c in _class:\n",
    "                vocabulary[word][c] = 0 # word 在 c 类文档中出现的文档数\n",
    "        vocabulary[word][row['department']] = vocabulary[word][row['department']]+1\n",
    "    doccnt_class[row['department']] = doccnt_class[row['department']]+1\n",
    "    doccnt_all += 1 # iterrows遍历的每一行是一个文档"
   ]
  },
  {
   "cell_type": "code",
   "execution_count": 31,
   "metadata": {},
   "outputs": [
    {
     "name": "stdout",
     "output_type": "stream",
     "text": [
      "党政办公室  Top 15:  [('党政', 0.20752815630975247), ('定于', 0.09541537016935553), ('培养', 0.07935822464670121), ('全', 0.07088623000338307), ('总支', 0.06769202935778154), ('办公室', 0.06297422453426305), ('南山区', 0.055860030585275805), ('筹', 0.055860030585275805), ('博物馆', 0.055860030585275805), ('申请', 0.054387447882864544), ('基层', 0.04984115230131111), ('本页', 0.04984115230131111), ('入口', 0.04984115230131111), ('10月', 0.0498334312265465), ('建议', 0.04860653228466512)]\n",
      "\n",
      "\n",
      "教务部  Top 15:  [('教务部', 0.3060839992840807), ('教学', 0.12228977888277089), ('课程', 0.07837799249604296), ('课堂', 0.06769202935778154), ('任课', 0.060899559594558596), ('办公室', 0.05751573056407797), ('招生', 0.05592593514852144), ('研究生院', 0.054387447882864544), ('11月', 0.053934989461036996), ('本科', 0.053605863684116524), ('门', 0.04984115230131111), ('科研', 0.04671635468213304), ('教师', 0.046630246497562436), ('229', 0.04424886378799753), ('学时', 0.04424886378799753)]\n",
      "\n",
      "\n",
      "招生办公室  Top 15:  [('中学', 0.3394371389893528), ('招生', 0.3093593267003605), ('进', 0.2383647947154827), ('名师', 0.22258173302699802), ('介绍', 0.21379165337560052), ('走', 0.20562080143885633), ('办公室', 0.18926894490256713), ('通知', 0.18056470797032395), ('热烈', 0.17658043808578572), ('伊始', 0.17183438054749925), ('生源', 0.17183438054749925), ('主任', 0.16527987523703905), ('高考', 0.16219589700821724), ('纷纷', 0.15774589336677913), ('表示', 0.15520184720434632)]\n",
      "\n",
      "\n",
      "研究生院  Top 15:  [('研究生院', 0.4503928726454712), ('研究生', 0.38068190371292204), ('硕士', 0.16219589700821724), ('导师', 0.1346722248058253), ('学位', 0.1198136953803545), ('培养', 0.07745980476108738), ('26050732', 0.06769202935778154), ('项目', 0.06441285958998524), ('博士', 0.05754892578982496), ('创新', 0.054387447882864544), ('重点', 0.0505148687535411), ('仔细', 0.04984115230131111), ('是否', 0.04818361662573223), ('名单', 0.04804489151477013), ('邹娟', 0.04424886378799753)]\n",
      "\n",
      "\n",
      "科学技术部  Top 15:  [('技术部', 0.27380605538438585), ('项目', 0.23495054659182085), ('自然科学', 0.23216324975934227), ('基金', 0.23216324975934227), ('科学', 0.2013917850109348), ('科研', 0.18122447570412614), ('领域', 0.14819915745703557), ('国家', 0.14483888781693596), ('李洁', 0.13057866947980282), ('szu.edu.cn', 0.1216275579353158), ('科技部', 0.12032511977669098), ('lijie', 0.11745929046414541), ('研究', 0.11244717718164249), ('@', 0.10502251863611517), ('科技', 0.09921037512531394)]\n",
      "\n",
      "\n"
     ]
    }
   ],
   "source": [
    "MI = {}\n",
    "for c in _class:\n",
    "    MI[c] = []\n",
    "    \n",
    "for word,word_class_doccnt in vocabulary.items():\n",
    "    for c,doccnt in word_class_doccnt.items():\n",
    "        n = doccnt_all\n",
    "        n11 = doccnt    # word 在 c 类文档中出现的文档数，可能为0\n",
    "        n01 = doccnt_class[c] - n11 # word 在 c 类文档中不出现的文档数, 即 c 类文档总数 - n11，可能为0\n",
    "        n1_ = sum(word_class_doccnt.values()) # word 在所有文档中出现的文档数，不可能为0\n",
    "        n10 = n1_ - n11 # word 在其他类文档中出现的文档数，即包含word但不属于 c 类的文档数，可能为0\n",
    "        n00 = n - n1_ - n01 # 不包含word的其他类文档数，可能为0\n",
    "        n0_ = n - n1_ # 所有文档（包含c类）中不包含word的文档数，可能为0\n",
    "        n_1 = doccnt_class[c] # c 类文档总数，此例中不可能为0\n",
    "        n_0 = doccnt_all - n_1 # 其他类文档总数，不可能为0\n",
    "        mi = (n11/n)*math.log((n*n11+1)/(n1_*n_1+1)) + (n01/n)*math.log((n*n01+1)/(n0_*n_1+1)) + (n10/n)*math.log((n*n10+1)/(n1_*n_0+1)) + (n00/n)*math.log((n*n00+1)/(n0_*n_0+1))\n",
    "        # 分子分母+1做平滑处理\n",
    "        MI[c].append((word,mi))\n",
    "\n",
    "for c in MI.values():\n",
    "    c.sort(key=lambda x:x[1],reverse=True)\n",
    "    \n",
    "for cname,ccnt in MI.items():\n",
    "    print(cname,' Top 15: ',ccnt[:15])\n",
    "    print('\\n')"
   ]
  }
 ],
 "metadata": {
  "interpreter": {
   "hash": "9a3214537666fabca0e0016ce611c41f247df2b2234c0b46a843d8ecc0e248e7"
  },
  "kernelspec": {
   "display_name": "Python 3.7.13 ('pkuseg_37')",
   "language": "python",
   "name": "python3"
  },
  "language_info": {
   "codemirror_mode": {
    "name": "ipython",
    "version": 3
   },
   "file_extension": ".py",
   "mimetype": "text/x-python",
   "name": "python",
   "nbconvert_exporter": "python",
   "pygments_lexer": "ipython3",
   "version": "3.7.13"
  },
  "orig_nbformat": 4
 },
 "nbformat": 4,
 "nbformat_minor": 2
}
